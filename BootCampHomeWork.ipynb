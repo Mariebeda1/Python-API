{
 "cells": [
  {
   "cell_type": "markdown",
   "metadata": {},
   "source": [
    "# WeatherPy\n",
    "----\n",
    "\n",
    "### Analysis\n",
    "* As expected, the weather becomes significantly warmer as one approaches the equator (0 Deg. Latitude). More interestingly, however, is the fact that the southern hemisphere tends to be warmer this time of year than the northern hemisphere. This may be due to the tilt of the earth.\n",
    "* There is no strong relationship between latitude and cloudiness. However, it is interesting to see that a strong band of cities sits at 0, 80, and 100% cloudiness.\n",
    "* There is no strong relationship between latitude and wind speed. However, in northern hemispheres there is a flurry of cities with over 20 mph of wind."
   ]
  },
  {
   "cell_type": "code",
   "execution_count": 2,
   "metadata": {
    "scrolled": true
   },
   "outputs": [],
   "source": [
    "# Dependencies and Setup\n",
    "import matplotlib.pyplot as plt\n",
    "import pandas as pd\n",
    "import numpy as np\n",
    "import requests\n",
    "import time\n",
    "from scipy.stats import linregress\n",
    "\n",
    "# Import API key\n",
    "from api_keys import weather_api_key\n",
    "\n",
    "# Incorporated citipy to determine city based on latitude and longitude\n",
    "from citipy import citipy\n",
    "\n",
    "# Output File (CSV)\n",
    "output_data_file = \"output_data/cities.csv\"\n",
    "\n",
    "# Range of latitudes and longitudes\n",
    "lat_range = (-90, 90)\n",
    "lng_range = (-180, 180)"
   ]
  },
  {
   "cell_type": "markdown",
   "metadata": {},
   "source": [
    "## Generate Cities List"
   ]
  },
  {
   "cell_type": "code",
   "execution_count": 4,
   "metadata": {},
   "outputs": [
    {
     "data": {
      "text/plain": [
       "630"
      ]
     },
     "execution_count": 4,
     "metadata": {},
     "output_type": "execute_result"
    }
   ],
   "source": [
    "# List for holding lat_lngs and cities\n",
    "lat_lngs = []\n",
    "cities = []\n",
    "\n",
    "# Create a set of random lat and lng combinations\n",
    "lats = np.random.uniform(low=-90.000, high=90.000, size=1500)\n",
    "lngs = np.random.uniform(low=-180.000, high=180.000, size=1500)\n",
    "lat_lngs = zip(lats, lngs)\n",
    "\n",
    "# Identify nearest city for each lat, lng combination\n",
    "for lat_lng in lat_lngs:\n",
    "    city = citipy.nearest_city(lat_lng[0], lat_lng[1]).city_name\n",
    "   \n",
    "    # If the city is unique, then add it to a our cities list\n",
    "    if city not in cities:\n",
    "        cities.append(city)\n",
    "\n",
    "# Print the city count to confirm sufficient count\n",
    "len(cities)\n"
   ]
  },
  {
   "cell_type": "markdown",
   "metadata": {},
   "source": [
    "## Perform API Calls"
   ]
  },
  {
   "cell_type": "code",
   "execution_count": 5,
   "metadata": {},
   "outputs": [
    {
     "name": "stdout",
     "output_type": "stream",
     "text": [
      "Processing record 1|hasaki\n",
      "Processing record 2|ushuaia\n",
      "Processing record 3|shu\n",
      "Processing record 4|new norfolk\n",
      "Processing record 5|kruisfontein\n",
      "Processing record 6|malaut\n",
      "Processing record 7|punta arenas\n",
      "Processing record 8|hermanus\n",
      "Processing record 9|carnarvon\n",
      "City not found. skipping.\n",
      "Processing record 10|wairoa\n",
      "Processing record 11|yar-sale\n",
      "Processing record 12|te anau\n",
      "Processing record 13|killybegs\n",
      "Processing record 14|qaanaaq\n",
      "Processing record 15|mujiayingzi\n",
      "Processing record 16|bluff\n",
      "Processing record 17|albany\n",
      "Processing record 18|butaritari\n",
      "Processing record 19|castro\n",
      "Processing record 20|samarai\n",
      "Processing record 21|iberia\n",
      "Processing record 22|sainte-maxime\n",
      "Processing record 23|mataura\n",
      "Processing record 24|cherskiy\n",
      "Processing record 25|pierre\n",
      "Processing record 26|torbay\n",
      "Processing record 27|chipinge\n",
      "Processing record 28|kieta\n",
      "Processing record 29|ponta do sol\n",
      "Processing record 30|skjervoy\n",
      "Processing record 31|verkhnevilyuysk\n",
      "Processing record 32|katsuura\n",
      "Processing record 33|hovd\n",
      "Processing record 34|linxi\n",
      "Processing record 35|vaini\n",
      "Processing record 36|praia\n",
      "Processing record 37|haines junction\n",
      "Processing record 38|puerto ayora\n",
      "Processing record 39|mehamn\n",
      "Processing record 40|comodoro rivadavia\n",
      "Processing record 41|kathmandu\n",
      "Processing record 42|gizo\n",
      "City not found. skipping.\n",
      "Processing record 43|airai\n",
      "Processing record 44|bambous virieux\n",
      "City not found. skipping.\n",
      "Processing record 45|skegness\n",
      "Processing record 46|faya\n",
      "Processing record 47|rikitea\n",
      "Processing record 48|tacna\n",
      "Processing record 49|sorland\n",
      "Processing record 50|pangody\n",
      "Processing record 51|koslan\n",
      "Processing record 52|kloulklubed\n",
      "Processing record 53|kavieng\n",
      "Processing record 54|tuktoyaktuk\n",
      "Processing record 55|nalut\n",
      "Processing record 56|vardo\n",
      "Processing record 57|lagoa\n",
      "Processing record 58|chuy\n",
      "City not found. skipping.\n",
      "Processing record 59|geraldton\n",
      "Processing record 60|valparaiso\n",
      "Processing record 61|pachino\n",
      "Processing record 62|georgetown\n",
      "Processing record 63|kapaa\n",
      "City not found. skipping.\n",
      "Processing record 64|wuwei\n",
      "Processing record 65|hutchinson\n",
      "Processing record 66|nioro\n",
      "Processing record 67|montauban\n",
      "Processing record 68|jamestown\n",
      "Processing record 69|kodiak\n",
      "Processing record 70|bandarbeyla\n",
      "Processing record 71|tasiilaq\n",
      "City not found. skipping.\n",
      "Processing record 72|bosaso\n",
      "Processing record 73|port alfred\n",
      "Processing record 74|fare\n",
      "Processing record 75|gao\n",
      "Processing record 76|hithadhoo\n",
      "Processing record 77|konevo\n",
      "Processing record 78|tagusao\n",
      "Processing record 79|nuuk\n",
      "Processing record 80|arraial do cabo\n",
      "Processing record 81|lebu\n",
      "City not found. skipping.\n",
      "City not found. skipping.\n",
      "Processing record 82|vicosa\n",
      "Processing record 83|petropavlovsk-kamchatskiy\n",
      "Processing record 84|mandan\n",
      "City not found. skipping.\n",
      "Processing record 85|giaginskaya\n",
      "Processing record 86|nurota\n",
      "Processing record 87|saint-philippe\n",
      "Processing record 88|quthing\n",
      "Processing record 89|kiama\n",
      "Processing record 90|talnakh\n",
      "Processing record 91|busselton\n",
      "Processing record 92|sistranda\n",
      "Processing record 93|colon\n",
      "Processing record 94|rongcheng\n",
      "Processing record 95|norman wells\n",
      "Processing record 96|egvekinot\n",
      "City not found. skipping.\n",
      "Processing record 97|cape town\n",
      "Processing record 98|hobart\n",
      "Processing record 99|torrington\n",
      "Processing record 100|lompoc\n",
      "Processing record 101|oga\n",
      "Processing record 102|luba\n",
      "Processing record 103|luangwa\n",
      "Processing record 104|jalingo\n",
      "Processing record 105|guerrero negro\n",
      "City not found. skipping.\n",
      "Processing record 106|biak\n",
      "Processing record 107|tautira\n",
      "Processing record 108|alofi\n",
      "Processing record 109|hilo\n",
      "Processing record 110|yellowknife\n",
      "Processing record 111|tolmachevo\n",
      "Processing record 112|bredasdorp\n",
      "Processing record 113|ola\n",
      "Processing record 114|bathsheba\n",
      "Processing record 115|ancud\n",
      "Processing record 116|atuona\n",
      "Processing record 117|dunedin\n",
      "Processing record 118|luderitz\n",
      "Processing record 119|arkhara\n",
      "City not found. skipping.\n",
      "City not found. skipping.\n",
      "Processing record 120|saskylakh\n",
      "Processing record 121|nexo\n",
      "Processing record 122|plettenberg bay\n",
      "Processing record 123|port augusta\n",
      "Processing record 124|sao joao da barra\n",
      "Processing record 125|kichera\n",
      "Processing record 126|balsas\n",
      "Processing record 127|petropavlovka\n",
      "Processing record 128|ribeira grande\n",
      "Processing record 129|victoria\n",
      "Processing record 130|marzuq\n",
      "Processing record 131|hanzhong\n",
      "Processing record 132|mocuba\n",
      "Processing record 133|north bend\n",
      "Processing record 134|yulara\n",
      "Processing record 135|laguna\n",
      "City not found. skipping.\n",
      "Processing record 136|zanjan\n",
      "Processing record 137|roebourne\n",
      "Processing record 138|anadyr\n",
      "Processing record 139|lata\n",
      "City not found. skipping.\n",
      "Processing record 140|dikson\n",
      "City not found. skipping.\n",
      "Processing record 141|port blair\n",
      "Processing record 142|bandar-e anzali\n",
      "Processing record 143|lavrentiya\n",
      "Processing record 144|ilulissat\n",
      "Processing record 145|leningradskiy\n",
      "Processing record 146|namatanai\n",
      "Processing record 147|tiksi\n",
      "Processing record 148|broken hill\n",
      "Processing record 149|upernavik\n",
      "City not found. skipping.\n",
      "Processing record 150|ca mau\n",
      "Processing record 151|maple creek\n",
      "Processing record 152|san remigio\n",
      "Processing record 153|margate\n",
      "Processing record 154|lhokseumawe\n",
      "Processing record 155|quelimane\n",
      "City not found. skipping.\n",
      "City not found. skipping.\n",
      "Processing record 156|provideniya\n",
      "Processing record 157|gangakher\n",
      "Processing record 158|constitucion\n",
      "Processing record 159|gazli\n",
      "City not found. skipping.\n",
      "Processing record 160|christchurch\n",
      "Processing record 161|vangaindrano\n",
      "Processing record 162|iralaya\n",
      "City not found. skipping.\n",
      "Processing record 163|dalvik\n",
      "Processing record 164|uyuni\n",
      "Processing record 165|san jose\n",
      "Processing record 166|sungaipenuh\n",
      "Processing record 167|owensboro\n",
      "Processing record 168|valleyview\n",
      "Processing record 169|ostrovnoy\n",
      "Processing record 170|longyearbyen\n",
      "City not found. skipping.\n",
      "City not found. skipping.\n",
      "Processing record 171|vila franca do campo\n",
      "Processing record 172|teguldet\n",
      "Processing record 173|marienburg\n",
      "Processing record 174|marawi\n",
      "Processing record 175|port elizabeth\n",
      "City not found. skipping.\n",
      "Processing record 176|selizharovo\n",
      "Processing record 177|barrow\n",
      "Processing record 178|moron\n",
      "Processing record 179|monteria\n",
      "City not found. skipping.\n",
      "Processing record 180|narsaq\n",
      "Processing record 181|kaitangata\n",
      "Processing record 182|phuket\n",
      "Processing record 183|polson\n",
      "Processing record 184|aklavik\n",
      "Processing record 185|batagay\n",
      "Processing record 186|loandjili\n",
      "City not found. skipping.\n",
      "Processing record 187|portland\n",
      "Processing record 188|chokurdakh\n",
      "Processing record 189|bontang\n",
      "City not found. skipping.\n",
      "Processing record 190|souillac\n",
      "Processing record 191|pisco\n",
      "Processing record 192|riberalta\n",
      "Processing record 193|miracema do tocantins\n",
      "Processing record 194|avarua\n",
      "Processing record 195|tuatapere\n",
      "Processing record 196|broome\n",
      "Processing record 197|melilla\n",
      "Processing record 198|praya\n",
      "Processing record 199|isangel\n",
      "Processing record 200|san quintin\n",
      "Processing record 201|namibe\n",
      "Processing record 202|dingle\n",
      "Processing record 203|los llanos de aridane\n",
      "Processing record 204|makakilo city\n",
      "Processing record 205|sur\n",
      "Processing record 206|chabahar\n",
      "Processing record 207|najran\n",
      "Processing record 208|pevek\n",
      "Processing record 209|thompson\n",
      "Processing record 210|neryungri\n",
      "City not found. skipping.\n",
      "Processing record 211|alice springs\n",
      "Processing record 212|mahebourg\n",
      "Processing record 213|fortuna\n",
      "Processing record 214|adrar\n",
      "Processing record 215|faanui\n",
      "City not found. skipping.\n",
      "Processing record 216|rio piracicaba\n",
      "Processing record 217|ust-nera\n",
      "Processing record 218|mapiripan\n",
      "Processing record 219|nikolskoye\n",
      "Processing record 220|vizinga\n",
      "City not found. skipping.\n",
      "Processing record 221|saldanha\n",
      "Processing record 222|jacqueville\n",
      "Processing record 223|palo alto\n",
      "Processing record 224|codrington\n",
      "Processing record 225|saint-augustin\n",
      "Processing record 226|ligayan\n",
      "City not found. skipping.\n",
      "Processing record 227|mar del plata\n",
      "Processing record 228|half moon bay\n",
      "City not found. skipping.\n",
      "Processing record 229|vuktyl\n",
      "Processing record 230|mahibadhoo\n",
      "Processing record 231|vila velha\n",
      "City not found. skipping.\n",
      "City not found. skipping.\n",
      "Processing record 232|iqaluit\n",
      "Processing record 233|vila\n",
      "Processing record 234|leh\n",
      "Processing record 235|aloleng\n",
      "Processing record 236|vredendal\n",
      "Processing record 237|tual\n",
      "Processing record 238|morales\n"
     ]
    },
    {
     "name": "stdout",
     "output_type": "stream",
     "text": [
      "Processing record 239|west bay\n",
      "Processing record 240|khatanga\n",
      "Processing record 241|pangnirtung\n",
      "City not found. skipping.\n",
      "Processing record 242|saint-prosper\n",
      "Processing record 243|vardenis\n",
      "City not found. skipping.\n",
      "Processing record 244|lodeynoye pole\n",
      "Processing record 245|bubaque\n",
      "Processing record 246|lakes entrance\n",
      "Processing record 247|lively\n",
      "Processing record 248|nanakuli\n",
      "Processing record 249|kurumkan\n",
      "Processing record 250|nanortalik\n",
      "Processing record 251|northam\n",
      "Processing record 252|tongchuan\n",
      "Processing record 253|lixourion\n",
      "Processing record 254|somerset east\n",
      "Processing record 255|san miguel\n",
      "Processing record 256|kuala kangsar\n",
      "Processing record 257|vestmannaeyjar\n",
      "Processing record 258|nago\n",
      "Processing record 259|esperance\n",
      "Processing record 260|maningrida\n",
      "Processing record 261|west lafayette\n",
      "Processing record 262|rovaniemi\n",
      "Processing record 263|pike creek\n",
      "Processing record 264|nova olimpia\n",
      "Processing record 265|touros\n",
      "Processing record 266|kimbe\n",
      "Processing record 267|nyurba\n",
      "City not found. skipping.\n",
      "Processing record 268|bolshaya martynovka\n",
      "Processing record 269|grindavik\n",
      "Processing record 270|cabo san lucas\n",
      "Processing record 271|vao\n",
      "Processing record 272|porto walter\n",
      "Processing record 273|zhanaozen\n",
      "Processing record 274|noumea\n",
      "Processing record 275|qasigiannguit\n",
      "Processing record 276|san sebastian\n",
      "Processing record 277|varhaug\n",
      "Processing record 278|kabare\n",
      "Processing record 279|birin\n",
      "Processing record 280|gornoye loo\n",
      "Processing record 281|buala\n",
      "Processing record 282|weligama\n",
      "Processing record 283|alugan\n",
      "Processing record 284|san patricio\n",
      "City not found. skipping.\n",
      "Processing record 285|vostok\n",
      "Processing record 286|bowen\n",
      "Processing record 287|nabire\n",
      "Processing record 288|zhanakorgan\n",
      "Processing record 289|lapua\n",
      "Processing record 290|nizhniy ingash\n",
      "Processing record 291|santa ines\n",
      "Processing record 292|havre-saint-pierre\n",
      "Processing record 293|goalpara\n",
      "Processing record 294|batagay-alyta\n",
      "Processing record 295|bismarck\n",
      "City not found. skipping.\n",
      "Processing record 296|oksbol\n",
      "City not found. skipping.\n",
      "City not found. skipping.\n",
      "Processing record 297|naze\n",
      "Processing record 298|beboto\n",
      "Processing record 299|prieska\n",
      "Processing record 300|vidim\n",
      "Processing record 301|boca do acre\n",
      "Processing record 302|kirakira\n",
      "Processing record 303|coquimbo\n",
      "Processing record 304|gainesville\n",
      "Processing record 305|buraydah\n",
      "Processing record 306|merauke\n",
      "Processing record 307|colac\n",
      "Processing record 308|gat\n",
      "Processing record 309|bell ville\n",
      "City not found. skipping.\n",
      "Processing record 310|kudahuvadhoo\n",
      "Processing record 311|tabou\n",
      "Processing record 312|nanning\n",
      "Processing record 313|kaeo\n",
      "Processing record 314|kupang\n",
      "Processing record 315|sola\n",
      "Processing record 316|cayenne\n",
      "Processing record 317|bilibino\n",
      "Processing record 318|menongue\n",
      "Processing record 319|lorengau\n",
      "Processing record 320|imeni poliny osipenko\n",
      "Processing record 321|lakatoro\n",
      "Processing record 322|sao filipe\n",
      "Processing record 323|coachella\n",
      "City not found. skipping.\n",
      "Processing record 324|kahului\n",
      "Processing record 325|bethel\n",
      "Processing record 326|barinas\n",
      "City not found. skipping.\n",
      "Processing record 327|high prairie\n",
      "Processing record 328|alamosa\n",
      "Processing record 329|turayf\n",
      "Processing record 330|opuwo\n",
      "City not found. skipping.\n",
      "Processing record 331|whitehorse\n",
      "Processing record 332|owando\n",
      "Processing record 333|chemax\n",
      "Processing record 334|moussoro\n",
      "Processing record 335|lake charles\n",
      "Processing record 336|mongagua\n",
      "Processing record 337|ridgecrest\n",
      "Processing record 338|camacha\n",
      "Processing record 339|kayes\n",
      "City not found. skipping.\n",
      "Processing record 340|nome\n",
      "Processing record 341|oruro\n",
      "Processing record 342|aksarka\n",
      "Processing record 343|grand gaube\n",
      "Processing record 344|tyup\n",
      "Processing record 345|canakkale\n",
      "City not found. skipping.\n",
      "Processing record 346|ahipara\n",
      "Processing record 347|pozo colorado\n",
      "Processing record 348|kurchum\n",
      "Processing record 349|pasuruan\n",
      "Processing record 350|westport\n",
      "City not found. skipping.\n",
      "Processing record 351|poum\n",
      "Processing record 352|avera\n",
      "Processing record 353|log\n",
      "Processing record 354|vammala\n",
      "Processing record 355|kindu\n",
      "Processing record 356|port antonio\n",
      "City not found. skipping.\n",
      "Processing record 357|shingu\n",
      "Processing record 358|blagoyevo\n",
      "Processing record 359|burnie\n",
      "Processing record 360|waddan\n",
      "Processing record 361|chernyshevskiy\n",
      "Processing record 362|saint-ambroise\n",
      "Processing record 363|kontagora\n",
      "Processing record 364|aksu\n",
      "Processing record 365|gushikawa\n",
      "City not found. skipping.\n",
      "Processing record 366|husavik\n",
      "Processing record 367|yinchuan\n",
      "Processing record 368|yokadouma\n",
      "Processing record 369|magdalena\n",
      "Processing record 370|ferrol\n",
      "Processing record 371|hofn\n",
      "Processing record 372|yuli\n",
      "Processing record 373|beringovskiy\n",
      "Processing record 374|champerico\n",
      "Processing record 375|karratha\n",
      "Processing record 376|miri\n",
      "Processing record 377|sao felix do xingu\n",
      "Processing record 378|kibala\n",
      "Processing record 379|komsomolskiy\n",
      "Processing record 380|la rioja\n",
      "City not found. skipping.\n",
      "Processing record 381|lukulu\n",
      "Processing record 382|conde\n",
      "Processing record 383|zlobin\n",
      "Processing record 384|rosarito\n",
      "Processing record 385|maudaha\n",
      "Processing record 386|anloga\n",
      "Processing record 387|cap malheureux\n",
      "Processing record 388|nantucket\n",
      "Processing record 389|belem de sao francisco\n",
      "Processing record 390|sompeta\n",
      "Processing record 391|santa barbara de nexe\n",
      "Processing record 392|birjand\n",
      "Processing record 393|gimli\n",
      "Processing record 394|port hardy\n",
      "Processing record 395|itarema\n",
      "City not found. skipping.\n",
      "Processing record 396|kushima\n",
      "Processing record 397|nkhotakota\n",
      "Processing record 398|whitecourt\n",
      "Processing record 399|coahuayana\n",
      "Processing record 400|mount isa\n",
      "Processing record 401|jiangyou\n",
      "Processing record 402|port hedland\n",
      "Processing record 403|mount gambier\n",
      "Processing record 404|manor\n",
      "Processing record 405|salinopolis\n",
      "Processing record 406|sarangani\n",
      "Processing record 407|hue\n",
      "Processing record 408|palmer\n",
      "Processing record 409|hamilton\n",
      "Processing record 410|topeka\n",
      "Processing record 411|darnah\n",
      "Processing record 412|hualmay\n",
      "Processing record 413|boguchany\n",
      "Processing record 414|sitka\n",
      "Processing record 415|talcahuano\n",
      "Processing record 416|chandbali\n",
      "Processing record 417|nelson bay\n",
      "Processing record 418|trelew\n",
      "Processing record 419|ruteng\n",
      "Processing record 420|klaksvik\n",
      "Processing record 421|erdenet\n",
      "City not found. skipping.\n",
      "Processing record 422|abu samrah\n",
      "Processing record 423|mangrol\n",
      "Processing record 424|hay river\n",
      "Processing record 425|jumla\n",
      "Processing record 426|anori\n",
      "Processing record 427|takhli\n",
      "Processing record 428|pirganj\n",
      "Processing record 429|swan hill\n",
      "Processing record 430|moose factory\n",
      "Processing record 431|storforshei\n",
      "Processing record 432|trairi\n",
      "Processing record 433|port keats\n",
      "Processing record 434|dudinka\n",
      "Processing record 435|clyde river\n",
      "Processing record 436|qovlar\n",
      "City not found. skipping.\n",
      "City not found. skipping.\n",
      "Processing record 437|tura\n",
      "Processing record 438|magdagachi\n",
      "Processing record 439|saint-pierre\n",
      "Processing record 440|ukiah\n",
      "Processing record 441|chicama\n",
      "Processing record 442|severo-kurilsk\n",
      "Processing record 443|bom jesus\n",
      "City not found. skipping.\n",
      "Processing record 444|kosh-agach\n",
      "Processing record 445|juigalpa\n",
      "Processing record 446|wamba\n",
      "City not found. skipping.\n",
      "Processing record 447|wanning\n",
      "Processing record 448|dannenberg\n",
      "Processing record 449|kidal\n",
      "Processing record 450|severomuysk\n",
      "Processing record 451|peniche\n",
      "Processing record 452|ostrov\n",
      "City not found. skipping.\n",
      "Processing record 453|east london\n",
      "Processing record 454|cidreira\n",
      "Processing record 455|chenghai\n",
      "Processing record 456|henties bay\n",
      "Processing record 457|sibiti\n",
      "City not found. skipping.\n",
      "Processing record 458|campobasso\n",
      "Processing record 459|camocim\n",
      "Processing record 460|jalu\n",
      "City not found. skipping.\n",
      "Processing record 461|port lincoln\n",
      "Processing record 462|kalabo\n",
      "Processing record 463|morwell\n",
      "Processing record 464|algiers\n",
      "Processing record 465|labuhan\n",
      "Processing record 466|shakawe\n",
      "Processing record 467|shelburne\n",
      "Processing record 468|areia branca\n",
      "Processing record 469|lisieux\n",
      "Processing record 470|gornopravdinsk\n",
      "Processing record 471|timbiqui\n",
      "Processing record 472|tougan\n",
      "Processing record 473|hanna\n",
      "Processing record 474|green river\n",
      "Processing record 475|taltal\n",
      "Processing record 476|quatre cocos\n",
      "Processing record 477|naranjal\n",
      "Processing record 478|mindelo\n"
     ]
    },
    {
     "name": "stdout",
     "output_type": "stream",
     "text": [
      "City not found. skipping.\n",
      "Processing record 479|waipawa\n",
      "Processing record 480|puro\n",
      "Processing record 481|sangmelima\n",
      "Processing record 482|seybaplaya\n",
      "Processing record 483|fort dodge\n",
      "Processing record 484|rudolstadt\n",
      "City not found. skipping.\n",
      "City not found. skipping.\n",
      "Processing record 485|srandakan\n",
      "Processing record 486|ilhabela\n",
      "Processing record 487|san jeronimo\n",
      "Processing record 488|balatonfured\n",
      "Processing record 489|mtimbira\n",
      "Processing record 490|muros\n",
      "Processing record 491|kautokeino\n",
      "Processing record 492|danilov\n",
      "Processing record 493|ketchikan\n",
      "Processing record 494|mannarakkat\n",
      "Processing record 495|tessalit\n",
      "Processing record 496|fort nelson\n",
      "Processing record 497|umm kaddadah\n",
      "Processing record 498|chapleau\n",
      "Processing record 499|khash\n",
      "Processing record 500|antofagasta\n",
      "City not found. skipping.\n",
      "Processing record 501|saint marys\n",
      "Processing record 502|tiarei\n",
      "Processing record 503|umea\n",
      "City not found. skipping.\n",
      "Processing record 504|saint george\n",
      "City not found. skipping.\n",
      "City not found. skipping.\n",
      "Processing record 505|slave lake\n",
      "Processing record 506|korhogo\n",
      "Processing record 507|minsk\n",
      "City not found. skipping.\n",
      "Processing record 508|edson\n",
      "Processing record 509|bugiri\n",
      "City not found. skipping.\n",
      "Processing record 510|roald\n",
      "Processing record 511|alindao\n",
      "City not found. skipping.\n",
      "City not found. skipping.\n",
      "Processing record 512|pulaski\n",
      "Processing record 513|sept-iles\n",
      "Processing record 514|port-gentil\n",
      "Processing record 515|tianpeng\n",
      "Processing record 516|boa vista\n",
      "Processing record 517|tupiza\n",
      "City not found. skipping.\n",
      "Processing record 518|jimma\n",
      "Processing record 519|byron bay\n",
      "Processing record 520|biskamzha\n",
      "Processing record 521|katobu\n",
      "Processing record 522|swanzey\n",
      "City not found. skipping.\n",
      "Processing record 523|pekan\n",
      "Processing record 524|sisimiut\n",
      "Processing record 525|kyabe\n",
      "Processing record 526|shcheglovo\n",
      "Processing record 527|misratah\n",
      "Processing record 528|san julian\n",
      "Processing record 529|aasiaat\n",
      "Processing record 530|barcelos\n",
      "Processing record 531|zeya\n",
      "Processing record 532|oranzherei\n",
      "Processing record 533|gamba\n",
      "Processing record 534|rebrikha\n",
      "Processing record 535|warrington\n",
      "Processing record 536|chapais\n",
      "Processing record 537|otradnoye\n",
      "Processing record 538|guangyuan\n",
      "City not found. skipping.\n",
      "Processing record 539|okato\n",
      "Processing record 540|madera\n",
      "Processing record 541|warri\n",
      "Processing record 542|gorontalo\n",
      "Processing record 543|padang\n",
      "Processing record 544|kula\n",
      "Processing record 545|tucson\n",
      "Processing record 546|frankfort\n",
      "Processing record 547|bonavista\n",
      "Processing record 548|dacice\n",
      "Processing record 549|chadiza\n",
      "Processing record 550|pinyug\n",
      "Processing record 551|okhotsk\n",
      "Processing record 552|kiboga\n",
      "Processing record 553|sovetskiy\n",
      "Processing record 554|sananduva\n",
      "Processing record 555|almazar\n",
      "City not found. skipping.\n"
     ]
    }
   ],
   "source": [
    "url = \"http://api.openweathermap.org/data/2.5/weather?units=Imperial&\"\n",
    "\n",
    "#Define empty lists to store values\n",
    "cloudiness = []\n",
    "country = []\n",
    "date = []\n",
    "max_temp = []\n",
    "humidity = []\n",
    "lat = []\n",
    "lng = []\n",
    "wind_speed = []\n",
    "city_name = []\n",
    "\n",
    "#Looping through cities to make api calls using city as query\n",
    "i = 1\n",
    "for city in cities:\n",
    "    city=city\n",
    "    query_url = url + \"appid=\" + weather_api_key + \"&q=\" + city\n",
    "    response = requests.get(query_url).json()\n",
    "    \n",
    "#Extracting data. Missing data is handled by try and except  \n",
    "    try:\n",
    "        \n",
    "        cloudiness.append(response[\"clouds\"][\"all\"])\n",
    "        country.append(response[\"sys\"][\"country\"])\n",
    "        date.append(response[\"dt\"])\n",
    "        max_temp.append(response[\"main\"]['temp_max'])\n",
    "        humidity.append(response[\"main\"]['humidity'])\n",
    "        lat.append(response[\"coord\"][\"lat\"])  \n",
    "        lng.append(response[\"coord\"][\"lon\"])\n",
    "        wind_speed.append(response[\"wind\"][\"speed\"])\n",
    "        city_name.append(response[\"name\"])\n",
    "        print(f\"Processing record {i}|{city}\")\n",
    "        i+=1\n",
    "    except (KeyError):\n",
    "        print(\"City not found. skipping.\")"
   ]
  },
  {
   "cell_type": "code",
   "execution_count": 6,
   "metadata": {},
   "outputs": [],
   "source": [
    "#Creating city dataframe\n",
    "city_df = pd.DataFrame({\"City\":city_name, \n",
    "                        \"Cloudiness\":cloudiness, \n",
    "                        \"Country\":country, \n",
    "                        \"Date\":date, \n",
    "                        \"Humidity\":humidity,\n",
    "                        \"Lat\":lat,\n",
    "                        \"Lng\":lng,\n",
    "                        \"Max Temp\":max_temp,\n",
    "                        \"Wind Speed\":wind_speed\n",
    "                                         })\n",
    "city_df = city_df.rename_axis('City ID')\n",
    "\n",
    "#Exporting data to csv\n",
    "city_df.to_csv(\"city.csv\")"
   ]
  },
  {
   "cell_type": "code",
   "execution_count": 7,
   "metadata": {},
   "outputs": [
    {
     "data": {
      "text/html": [
       "<div>\n",
       "<style scoped>\n",
       "    .dataframe tbody tr th:only-of-type {\n",
       "        vertical-align: middle;\n",
       "    }\n",
       "\n",
       "    .dataframe tbody tr th {\n",
       "        vertical-align: top;\n",
       "    }\n",
       "\n",
       "    .dataframe thead th {\n",
       "        text-align: right;\n",
       "    }\n",
       "</style>\n",
       "<table border=\"1\" class=\"dataframe\">\n",
       "  <thead>\n",
       "    <tr style=\"text-align: right;\">\n",
       "      <th></th>\n",
       "      <th>City</th>\n",
       "      <th>Cloudiness</th>\n",
       "      <th>Country</th>\n",
       "      <th>Date</th>\n",
       "      <th>Humidity</th>\n",
       "      <th>Lat</th>\n",
       "      <th>Lng</th>\n",
       "      <th>Max Temp</th>\n",
       "      <th>Wind Speed</th>\n",
       "    </tr>\n",
       "    <tr>\n",
       "      <th>City ID</th>\n",
       "      <th></th>\n",
       "      <th></th>\n",
       "      <th></th>\n",
       "      <th></th>\n",
       "      <th></th>\n",
       "      <th></th>\n",
       "      <th></th>\n",
       "      <th></th>\n",
       "      <th></th>\n",
       "    </tr>\n",
       "  </thead>\n",
       "  <tbody>\n",
       "    <tr>\n",
       "      <th>0</th>\n",
       "      <td>Hasaki</td>\n",
       "      <td>75</td>\n",
       "      <td>JP</td>\n",
       "      <td>1571277491</td>\n",
       "      <td>68</td>\n",
       "      <td>35.73</td>\n",
       "      <td>140.83</td>\n",
       "      <td>66.20</td>\n",
       "      <td>9.17</td>\n",
       "    </tr>\n",
       "    <tr>\n",
       "      <th>1</th>\n",
       "      <td>Ushuaia</td>\n",
       "      <td>30</td>\n",
       "      <td>AR</td>\n",
       "      <td>1571277491</td>\n",
       "      <td>57</td>\n",
       "      <td>-54.81</td>\n",
       "      <td>-68.31</td>\n",
       "      <td>48.20</td>\n",
       "      <td>9.17</td>\n",
       "    </tr>\n",
       "    <tr>\n",
       "      <th>2</th>\n",
       "      <td>Shu</td>\n",
       "      <td>98</td>\n",
       "      <td>KZ</td>\n",
       "      <td>1571277492</td>\n",
       "      <td>49</td>\n",
       "      <td>43.60</td>\n",
       "      <td>73.76</td>\n",
       "      <td>54.93</td>\n",
       "      <td>7.72</td>\n",
       "    </tr>\n",
       "    <tr>\n",
       "      <th>3</th>\n",
       "      <td>New Norfolk</td>\n",
       "      <td>40</td>\n",
       "      <td>AU</td>\n",
       "      <td>1571277492</td>\n",
       "      <td>62</td>\n",
       "      <td>-42.78</td>\n",
       "      <td>147.06</td>\n",
       "      <td>59.00</td>\n",
       "      <td>10.29</td>\n",
       "    </tr>\n",
       "    <tr>\n",
       "      <th>4</th>\n",
       "      <td>Kruisfontein</td>\n",
       "      <td>0</td>\n",
       "      <td>ZA</td>\n",
       "      <td>1571277492</td>\n",
       "      <td>34</td>\n",
       "      <td>-34.00</td>\n",
       "      <td>24.73</td>\n",
       "      <td>64.45</td>\n",
       "      <td>5.99</td>\n",
       "    </tr>\n",
       "  </tbody>\n",
       "</table>\n",
       "</div>"
      ],
      "text/plain": [
       "                 City  Cloudiness Country        Date  Humidity    Lat  \\\n",
       "City ID                                                                  \n",
       "0              Hasaki          75      JP  1571277491        68  35.73   \n",
       "1             Ushuaia          30      AR  1571277491        57 -54.81   \n",
       "2                 Shu          98      KZ  1571277492        49  43.60   \n",
       "3         New Norfolk          40      AU  1571277492        62 -42.78   \n",
       "4        Kruisfontein           0      ZA  1571277492        34 -34.00   \n",
       "\n",
       "            Lng  Max Temp  Wind Speed  \n",
       "City ID                                \n",
       "0        140.83     66.20        9.17  \n",
       "1        -68.31     48.20        9.17  \n",
       "2         73.76     54.93        7.72  \n",
       "3        147.06     59.00       10.29  \n",
       "4         24.73     64.45        5.99  "
      ]
     },
     "execution_count": 7,
     "metadata": {},
     "output_type": "execute_result"
    }
   ],
   "source": [
    "# Display the City Data Frame\n",
    "city_df.head()"
   ]
  },
  {
   "cell_type": "markdown",
   "metadata": {},
   "source": [
    "## Latitude vs. Cloudiness Plot"
   ]
  },
  {
   "cell_type": "code",
   "execution_count": 11,
   "metadata": {},
   "outputs": [
    {
     "data": {
      "image/png": "[encoded data removed]",
      "text/plain": [
       "<Figure size 432x288 with 1 Axes>"
      ]
     },
     "metadata": {
      "needs_background": "light"
     },
     "output_type": "display_data"
    }
   ],
   "source": [
    "# Build the scatter plots for latitude vs. cloudiness\n",
    "plt.scatter(lat,\n",
    "           cloudiness,\n",
    "           edgecolor=\"black\", linewidths=1, marker=\"o\",\n",
    "           alpha=0.8, label=\"Cities\")\n",
    "# Incorporate the other graph properties\n",
    "plt.title(\"City Latitude vs. Cloudiness (%s)\" % time.strftime(\"%x\"))\n",
    "plt.ylabel(\"Cloudiness (%)\")\n",
    "plt.xlabel(\"Latitude\")\n",
    "plt.grid(True)\n",
    "# # Save the figure\n",
    "# plt.savefig(\"output_data/Fig3.png\")\n",
    "# Show plot\n",
    "plt.show()"
   ]
  },
  {
   "cell_type": "markdown",
   "metadata": {},
   "source": [
    "## Latitude vs. Wind Speed Plot"
   ]
  },
  {
   "cell_type": "code",
   "execution_count": 19,
   "metadata": {},
   "outputs": [
    {
     "data": {
      "image/png": "[encoded data removed]",
      "text/plain": [
       "<Figure size 432x288 with 1 Axes>"
      ]
     },
     "metadata": {
      "needs_background": "light"
     },
     "output_type": "display_data"
    }
   ],
   "source": [
    "plt.scatter(city_df[\"Lat\"], city_df[\"Wind Speed\"], marker = \"o\", color = \"blue\",edgecolor = \"black\")\n",
    "plt.grid()\n",
    "plt.xlabel(\"Latitude\")\n",
    "plt.ylabel(\"Wind Speed(mph)\")\n",
    "plt.title(f\"City Latitude vs. Wind Speed (%s)\" % time.strftime(\"%x\"))\n",
    "plt.show()"
   ]
  },
  {
   "cell_type": "markdown",
   "metadata": {},
   "source": [
    "## Linear Regression"
   ]
  },
  {
   "cell_type": "code",
   "execution_count": 22,
   "metadata": {},
   "outputs": [],
   "source": [
    "# Create a function to create Linear Regression plots\n",
    "def linear_reg_plot(x_values,y_values):\n",
    "    (slope, intercept, rvalue, pvalue, stderr) = linregress(x_values, y_values)\n",
    "    regress_values = x_values * slope + intercept\n",
    "    line_eq = \"y = \" + str(round(slope,2)) + \"x + \" + str(round(intercept,2))\n",
    "    plt.scatter(x_values,y_values)\n",
    "    plt.plot(x_values,regress_values,\"r-\")\n",
    "    plt.annotate(line_eq,(x_values.median(),y_values.median()),fontsize=15,color=\"red\")\n",
    "    plt.xlabel(\"Latitude\")\n",
    "    print(f\"The r-squared is: {rvalue}\")\n",
    "    plt.show()"
   ]
  },
  {
   "cell_type": "code",
   "execution_count": 21,
   "metadata": {},
   "outputs": [],
   "source": [
    "# Create Northern and Southern Hemisphere DataFrames\n",
    "Northern_hemisphere = city_df.loc[city_df[\"Lat\"]>0]\n",
    "Southern_hemisphere = city_df.loc[city_df[\"Lat\"]<0]"
   ]
  },
  {
   "cell_type": "markdown",
   "metadata": {},
   "source": [
    "###  Max Temp vs. Latitude Linear Regression"
   ]
  },
  {
   "cell_type": "code",
   "execution_count": 23,
   "metadata": {},
   "outputs": [
    {
     "name": "stdout",
     "output_type": "stream",
     "text": [
      "The r-squared is: -0.8758113210442698\n"
     ]
    },
    {
     "data": {
      "image/png": "[encoded data removed]",
      "text/plain": [
       "<Figure size 432x288 with 1 Axes>"
      ]
     },
     "metadata": {
      "needs_background": "light"
     },
     "output_type": "display_data"
    },
    {
     "name": "stdout",
     "output_type": "stream",
     "text": [
      "None\n"
     ]
    }
   ],
   "source": [
    "# Linear regression on Northern Hemisphere\n",
    "x_values = Northern_hemisphere[\"Lat\"]\n",
    "y_values = Northern_hemisphere[\"Max Temp\"]\n",
    "plt.ylabel(\"Max Temp (F)\")\n",
    "print(linear_reg_plot(x_values,y_values))"
   ]
  },
  {
   "cell_type": "code",
   "execution_count": 37,
   "metadata": {},
   "outputs": [
    {
     "name": "stdout",
     "output_type": "stream",
     "text": [
      "The r-squared is: 0.6879055377468192\n"
     ]
    },
    {
     "data": {
      "image/png": "[encoded data removed]",
      "text/plain": [
       "<Figure size 432x288 with 1 Axes>"
      ]
     },
     "metadata": {
      "needs_background": "light"
     },
     "output_type": "display_data"
    }
   ],
   "source": [
    "# Linear regression on Southern Hemisphere\n",
    "x_values = Southern_hemisphere[\"Lat\"]\n",
    "y_values = Southern_hemisphere[\"Max Temp\"]\n",
    "plt.ylabel(\"Max Temp (F)\")\n",
    "print(linear_reg_plot(x_values,y_values))"
   ]
  },
  {
   "cell_type": "markdown",
   "metadata": {},
   "source": [
    "The high r value indicates a strong positive correlation between latitude and max temperature."
   ]
  },
  {
   "cell_type": "markdown",
   "metadata": {},
   "source": [
    "### Humidity (%) vs. Latitude Linear Regression"
   ]
  },
  {
   "cell_type": "code",
   "execution_count": 24,
   "metadata": {},
   "outputs": [
    {
     "name": "stdout",
     "output_type": "stream",
     "text": [
      "The r-squared is: 0.0956964906168938\n"
     ]
    },
    {
     "data": {
      "image/png": "[encoded data removed]",
      "text/plain": [
       "<Figure size 432x288 with 1 Axes>"
      ]
     },
     "metadata": {
      "needs_background": "light"
     },
     "output_type": "display_data"
    },
    {
     "name": "stdout",
     "output_type": "stream",
     "text": [
      "None\n"
     ]
    }
   ],
   "source": [
    "# Northern Hemisphere\n",
    "x_values = Northern_hemisphere[\"Lat\"]\n",
    "y_values = Northern_hemisphere[\"Humidity\"]\n",
    "plt.ylabel(\"Humidity (%)\")\n",
    "print(linear_reg_plot(x_values,y_values))"
   ]
  },
  {
   "cell_type": "code",
   "execution_count": 39,
   "metadata": {},
   "outputs": [
    {
     "name": "stdout",
     "output_type": "stream",
     "text": [
      "The r-squared is: 0.1343905263179015\n"
     ]
    },
    {
     "data": {
      "image/png": "[encoded data removed]",
      "text/plain": [
       "<Figure size 432x288 with 1 Axes>"
      ]
     },
     "metadata": {
      "needs_background": "light"
     },
     "output_type": "display_data"
    }
   ],
   "source": [
    "# Southern Hemisphere\n",
    "# Southern Hemisphere\n",
    "x_values = Southern_hemisphere[\"Lat\"]\n",
    "y_values = Southern_hemisphere[\"Humidity\"]\n",
    "plt.ylim(0, y_values.max()+100)\n",
    "plt.ylabel(\"Humidity (%)\")\n",
    "print(linear_reg_plot(x_values,y_values))"
   ]
  },
  {
   "cell_type": "markdown",
   "metadata": {},
   "source": [
    "The low r values indicate a weak to no relationship between humidity and latitude."
   ]
  },
  {
   "cell_type": "markdown",
   "metadata": {},
   "source": [
    "### Cloudiness (%) vs. Latitude Linear Regression"
   ]
  },
  {
   "cell_type": "code",
   "execution_count": 25,
   "metadata": {},
   "outputs": [
    {
     "name": "stdout",
     "output_type": "stream",
     "text": [
      "The r-squared is: 0.09308452421013763\n"
     ]
    },
    {
     "data": {
      "image/png": "[encoded data removed]",
      "text/plain": [
       "<Figure size 432x288 with 1 Axes>"
      ]
     },
     "metadata": {
      "needs_background": "light"
     },
     "output_type": "display_data"
    },
    {
     "name": "stdout",
     "output_type": "stream",
     "text": [
      "None\n"
     ]
    }
   ],
   "source": [
    "# Northern Hemisphere\n",
    "x_values = Northern_hemisphere[\"Lat\"]\n",
    "y_values = Northern_hemisphere[\"Cloudiness\"]\n",
    "plt.ylabel(\"Cloudiness\")\n",
    "print(linear_reg_plot(x_values,y_values))"
   ]
  },
  {
   "cell_type": "code",
   "execution_count": 41,
   "metadata": {},
   "outputs": [
    {
     "name": "stdout",
     "output_type": "stream",
     "text": [
      "The r-squared is: 0.09276074773932115\n"
     ]
    },
    {
     "data": {
      "image/png": "[encoded data removed]",
      "text/plain": [
       "<Figure size 432x288 with 1 Axes>"
      ]
     },
     "metadata": {
      "needs_background": "light"
     },
     "output_type": "display_data"
    }
   ],
   "source": [
    "# Southern Hemisphere\n",
    "x_values = Southern_hemisphere[\"Lat\"]\n",
    "y_values = Southern_hemisphere[\"Cloudiness\"]\n",
    "plt.ylabel(\"Cloudiness\")\n",
    "print(linear_reg_plot(x_values,y_values))"
   ]
  },
  {
   "cell_type": "markdown",
   "metadata": {},
   "source": [
    "The low r values indicate a weak positive relationship between latitude and cloudiness."
   ]
  },
  {
   "cell_type": "markdown",
   "metadata": {},
   "source": [
    "### Wind Speed (mph) vs. Latitude Linear Regression"
   ]
  },
  {
   "cell_type": "code",
   "execution_count": 26,
   "metadata": {},
   "outputs": [
    {
     "name": "stdout",
     "output_type": "stream",
     "text": [
      "The r-squared is: 0.23555054642552212\n"
     ]
    },
    {
     "data": {
      "image/png": "[encoded data removed]",
      "text/plain": [
       "<Figure size 432x288 with 1 Axes>"
      ]
     },
     "metadata": {
      "needs_background": "light"
     },
     "output_type": "display_data"
    },
    {
     "name": "stdout",
     "output_type": "stream",
     "text": [
      "None\n"
     ]
    }
   ],
   "source": [
    "# Northern Hemisphere\n",
    "x_values = Northern_hemisphere[\"Lat\"]\n",
    "y_values = Northern_hemisphere[\"Wind Speed\"]\n",
    "plt.ylabel(\"Wind Speed\")\n",
    "print(linear_reg_plot(x_values,y_values))"
   ]
  },
  {
   "cell_type": "code",
   "execution_count": 43,
   "metadata": {},
   "outputs": [
    {
     "name": "stdout",
     "output_type": "stream",
     "text": [
      "The r-squared is: -0.35518370788523734\n"
     ]
    },
    {
     "data": {
      "image/png": "[encoded data removed]",
      "text/plain": [
       "<Figure size 432x288 with 1 Axes>"
      ]
     },
     "metadata": {
      "needs_background": "light"
     },
     "output_type": "display_data"
    }
   ],
   "source": [
    "# Southern Hemisphere\n",
    "x_values = Southern_hemisphere[\"Lat\"]\n",
    "y_values = Southern_hemisphere[\"Wind Speed\"]\n",
    "plt.ylabel(\"Wind Speed\")\n",
    "print(linear_reg_plot(x_values,y_values))\n"
   ]
  },
  {
   "cell_type": "markdown",
   "metadata": {},
   "source": [
    "The low r values indicate that there is no real relationship between wind speed and latitude.\" The difference between the hemispheres doesn't seem to be significant enough to comment upon."
   ]
  },
  {
   "cell_type": "code",
   "execution_count": null,
   "metadata": {},
   "outputs": [],
   "source": []
  }
 ],
 "metadata": {
  "anaconda-cloud": {},
  "kernel_info": {
   "name": "python3"
  },
  "kernelspec": {
   "display_name": "Python 3",
   "language": "python",
   "name": "python3"
  },
  "language_info": {
   "codemirror_mode": {
    "name": "ipython",
    "version": 3
   },
   "file_extension": ".py",
   "mimetype": "text/x-python",
   "name": "python",
   "nbconvert_exporter": "python",
   "pygments_lexer": "ipython3",
   "version": "3.7.3"
  },
  "latex_envs": {
   "LaTeX_envs_menu_present": true,
   "autoclose": false,
   "autocomplete": true,
   "bibliofile": "biblio.bib",
   "cite_by": "apalike",
   "current_citInitial": 1,
   "eqLabelWithNumbers": true,
   "eqNumInitial": 1,
   "hotkeys": {
    "equation": "Ctrl-E",
    "itemize": "Ctrl-I"
   },
   "labels_anchors": false,
   "latex_user_defs": false,
   "report_style_numbering": false,
   "user_envs_cfg": false
  },
  "nteract": {
   "version": "0.12.3"
  }
 },
 "nbformat": 4,
 "nbformat_minor": 2
}
